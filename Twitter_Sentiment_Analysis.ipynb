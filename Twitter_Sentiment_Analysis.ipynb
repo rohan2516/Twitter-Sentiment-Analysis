{
 "cells": [
  {
   "cell_type": "code",
   "execution_count": 2,
   "id": "70b8f3f3",
   "metadata": {},
   "outputs": [],
   "source": [
    "import pandas as pd\n",
    "import numpy as np\n",
    "from sklearn.ensemble import RandomForestClassifier\n",
    "from  sklearn.svm import SVC\n",
    "import string\n",
    "import nltk\n",
    "from nltk.stem import WordNetLemmatizer"
   ]
  },
  {
   "cell_type": "code",
   "execution_count": 3,
   "id": "8af48826",
   "metadata": {},
   "outputs": [],
   "source": [
    "train_df = pd.read_csv(\"C:/Users/Rohan/Downloads/0000000000002747_training_twitter_x_y_train.csv\",delimiter=',')"
   ]
  },
  {
   "cell_type": "code",
   "execution_count": 91,
   "id": "26d8a217",
   "metadata": {},
   "outputs": [],
   "source": [
    "test_df = pd.read_csv(\"C:/Users/Rohan/Downloads/0000000000002747_test_twitter_x_test.csv\",delimiter=',')"
   ]
  },
  {
   "cell_type": "code",
   "execution_count": 97,
   "id": "558d218c",
   "metadata": {},
   "outputs": [],
   "source": [
    "x_test=test_df['text'].to_numpy()"
   ]
  },
  {
   "cell_type": "code",
   "execution_count": 100,
   "id": "02ef5e2a",
   "metadata": {},
   "outputs": [
    {
     "data": {
      "text/plain": [
       "3660"
      ]
     },
     "execution_count": 100,
     "metadata": {},
     "output_type": "execute_result"
    }
   ],
   "source": [
    "len(x_test)"
   ]
  },
  {
   "cell_type": "code",
   "execution_count": 12,
   "id": "37e35b70",
   "metadata": {},
   "outputs": [],
   "source": [
    "y_train_df=train_df['airline_sentiment']"
   ]
  },
  {
   "cell_type": "code",
   "execution_count": 14,
   "id": "5b61daaf",
   "metadata": {},
   "outputs": [],
   "source": [
    "y_train=y_train_df.to_numpy()"
   ]
  },
  {
   "cell_type": "code",
   "execution_count": 88,
   "id": "82f7b9ca",
   "metadata": {},
   "outputs": [
    {
     "data": {
      "text/plain": [
       "10980"
      ]
     },
     "execution_count": 88,
     "metadata": {},
     "output_type": "execute_result"
    }
   ],
   "source": [
    "len(y_train)"
   ]
  },
  {
   "cell_type": "code",
   "execution_count": 20,
   "id": "c5635362",
   "metadata": {},
   "outputs": [],
   "source": [
    "x_train = train_df['text'].to_numpy()"
   ]
  },
  {
   "cell_type": "code",
   "execution_count": 27,
   "id": "ef798274",
   "metadata": {},
   "outputs": [
    {
     "data": {
      "text/plain": [
       "10980"
      ]
     },
     "execution_count": 27,
     "metadata": {},
     "output_type": "execute_result"
    }
   ],
   "source": [
    "len(x_train)"
   ]
  },
  {
   "cell_type": "code",
   "execution_count": 30,
   "id": "ebde52fd",
   "metadata": {},
   "outputs": [
    {
     "data": {
      "text/plain": [
       "10980"
      ]
     },
     "execution_count": 30,
     "metadata": {},
     "output_type": "execute_result"
    }
   ],
   "source": [
    "len(train_df)"
   ]
  },
  {
   "cell_type": "code",
   "execution_count": 34,
   "id": "5491ceae",
   "metadata": {},
   "outputs": [],
   "source": [
    "punc = list(string.punctuation)"
   ]
  },
  {
   "cell_type": "code",
   "execution_count": 39,
   "id": "e7fa5ac5",
   "metadata": {},
   "outputs": [],
   "source": [
    "from nltk.corpus import stopwords"
   ]
  },
  {
   "cell_type": "code",
   "execution_count": 43,
   "id": "3839eadf",
   "metadata": {},
   "outputs": [],
   "source": [
    "sw = stopwords.words('english')"
   ]
  },
  {
   "cell_type": "code",
   "execution_count": 45,
   "id": "fda6d4a7",
   "metadata": {},
   "outputs": [],
   "source": [
    "sw += punc"
   ]
  },
  {
   "cell_type": "code",
   "execution_count": 50,
   "id": "d7245919",
   "metadata": {},
   "outputs": [],
   "source": [
    "from nltk.corpus import wordnet"
   ]
  },
  {
   "cell_type": "code",
   "execution_count": 51,
   "id": "b5bb5c75",
   "metadata": {},
   "outputs": [],
   "source": [
    "def get_simple_pos (tag):\n",
    "    if tag.startswith('J'):\n",
    "        return wordnet.ADJ\n",
    "    elif tag.startswith( 'V'):\n",
    "        return wordnet.VERB\n",
    "    elif tag.startswith( 'N'):\n",
    "        return wordnet. NOUN\n",
    "    elif tag.startswith( 'R'):\n",
    "        return wordnet.ADV\n",
    "    else:\n",
    "        return wordnet. NOUN"
   ]
  },
  {
   "cell_type": "code",
   "execution_count": 64,
   "id": "2fa755fe",
   "metadata": {},
   "outputs": [],
   "source": [
    "from nltk.tokenize import word_tokenize\n",
    "from nltk import pos_tag"
   ]
  },
  {
   "cell_type": "code",
   "execution_count": 66,
   "id": "3d0c4b99",
   "metadata": {},
   "outputs": [],
   "source": [
    "lemmatizer = WordNetLemmatizer()"
   ]
  },
  {
   "cell_type": "code",
   "execution_count": 70,
   "id": "48539be9",
   "metadata": {},
   "outputs": [
    {
     "data": {
      "text/plain": [
       "'run'"
      ]
     },
     "execution_count": 70,
     "metadata": {},
     "output_type": "execute_result"
    }
   ],
   "source": [
    "lemmatizer.lemmatize('running',get_simple_pos(pos_tag(['running'])[0][1]))"
   ]
  },
  {
   "cell_type": "code",
   "execution_count": 71,
   "id": "192bfad1",
   "metadata": {},
   "outputs": [],
   "source": [
    "text_train=[]\n",
    "for text in x_train:\n",
    "    temp = word_tokenize(text)\n",
    "    l = []\n",
    "    for w in temp:\n",
    "        if w.lower() not in sw:\n",
    "            word = lemmatizer.lemmatize(w,get_simple_pos(pos_tag([w])[0][1]))\n",
    "            l.append(word.lower())\n",
    "    text_train.append(l)"
   ]
  },
  {
   "cell_type": "code",
   "execution_count": 76,
   "id": "cf2c5ba8",
   "metadata": {},
   "outputs": [],
   "source": [
    "x_train_text = []\n",
    "for l in text_train:\n",
    "    x_train_text.append(\" \".join(l))"
   ]
  },
  {
   "cell_type": "code",
   "execution_count": 81,
   "id": "752e429c",
   "metadata": {},
   "outputs": [
    {
     "data": {
      "text/plain": [
       "{' ',\n",
       " '.',\n",
       " '2',\n",
       " 'a',\n",
       " 'c',\n",
       " 'd',\n",
       " 'e',\n",
       " 'f',\n",
       " 'g',\n",
       " 'h',\n",
       " 'i',\n",
       " 'l',\n",
       " 'm',\n",
       " 'n',\n",
       " 'o',\n",
       " 'r',\n",
       " 's',\n",
       " 't',\n",
       " 'u',\n",
       " 'v',\n",
       " 'w',\n",
       " 'y'}"
      ]
     },
     "execution_count": 81,
     "metadata": {},
     "output_type": "execute_result"
    }
   ],
   "source": [
    "set(x_train_text[0])"
   ]
  },
  {
   "cell_type": "code",
   "execution_count": 83,
   "id": "90bf7dc1",
   "metadata": {},
   "outputs": [
    {
     "data": {
      "text/plain": [
       "'@SouthwestAir I am scheduled for the morning, 2 days after the fact, yes..not sure why my evening flight was the only one Cancelled Flightled'"
      ]
     },
     "execution_count": 83,
     "metadata": {},
     "output_type": "execute_result"
    }
   ],
   "source": [
    "x_train[0]"
   ]
  },
  {
   "cell_type": "code",
   "execution_count": 87,
   "id": "fde4ef1f",
   "metadata": {},
   "outputs": [
    {
     "data": {
      "text/plain": [
       "10980"
      ]
     },
     "execution_count": 87,
     "metadata": {},
     "output_type": "execute_result"
    }
   ],
   "source": [
    "len(x_train_text)"
   ]
  },
  {
   "cell_type": "code",
   "execution_count": 101,
   "id": "989ec923",
   "metadata": {},
   "outputs": [],
   "source": [
    "text_test=[]\n",
    "for text in x_test:\n",
    "    temp = word_tokenize(text)\n",
    "    l = []\n",
    "    for w in temp:\n",
    "        if w.lower() not in sw:\n",
    "            word = lemmatizer.lemmatize(w,get_simple_pos(pos_tag([w])[0][1]))\n",
    "            l.append(word.lower())\n",
    "    text_test.append(l)\n",
    "x_test_text = []\n",
    "for l in text_test:\n",
    "    x_test_text.append(\" \".join(l))"
   ]
  },
  {
   "cell_type": "code",
   "execution_count": 110,
   "id": "b5e339c4",
   "metadata": {},
   "outputs": [
    {
     "data": {
      "text/plain": [
       "\"americanair car gng dfw pulled 1hr ago icy road on-hold aa since 1hr ca n't reach arpt aa2450 wat 2\""
      ]
     },
     "execution_count": 110,
     "metadata": {},
     "output_type": "execute_result"
    }
   ],
   "source": [
    "x_test_text[0]"
   ]
  },
  {
   "cell_type": "code",
   "execution_count": 106,
   "id": "8b662138",
   "metadata": {},
   "outputs": [
    {
     "data": {
      "text/plain": [
       "\"@AmericanAir In car gng to DFW. Pulled over 1hr ago - very icy roads. On-hold with AA since 1hr. Can't reach arpt for AA2450. Wat 2 do?\""
      ]
     },
     "execution_count": 106,
     "metadata": {},
     "output_type": "execute_result"
    }
   ],
   "source": [
    "x_test[0]"
   ]
  },
  {
   "cell_type": "code",
   "execution_count": 107,
   "id": "98a17a46",
   "metadata": {},
   "outputs": [],
   "source": [
    "from sklearn.feature_extraction.text import CountVectorizer"
   ]
  },
  {
   "cell_type": "code",
   "execution_count": 108,
   "id": "b0801577",
   "metadata": {},
   "outputs": [],
   "source": [
    "from sklearn.feature_extraction.text import TfidfVectorizer"
   ]
  },
  {
   "cell_type": "code",
   "execution_count": 109,
   "id": "2e2c329c",
   "metadata": {},
   "outputs": [],
   "source": [
    "tfid = TfidfVectorizer(max_features=4000, max_df=0.8, min_df=0.001)"
   ]
  },
  {
   "cell_type": "code",
   "execution_count": 111,
   "id": "0418723e",
   "metadata": {},
   "outputs": [],
   "source": [
    "xtrain = tfid.fit_transform(x_train_text)"
   ]
  },
  {
   "cell_type": "code",
   "execution_count": 113,
   "id": "b27b11b7",
   "metadata": {},
   "outputs": [],
   "source": [
    "xtest = tfid.transform(x_test_text)"
   ]
  },
  {
   "cell_type": "code",
   "execution_count": 131,
   "id": "a8a8354a",
   "metadata": {},
   "outputs": [],
   "source": [
    "grid = {'C':[1,10,100,1000],'gamma':[0.001,0.01,0.1,1]}"
   ]
  },
  {
   "cell_type": "code",
   "execution_count": 134,
   "id": "9b8740b7",
   "metadata": {},
   "outputs": [],
   "source": [
    "from sklearn.model_selection import GridSearchCV"
   ]
  },
  {
   "cell_type": "code",
   "execution_count": 135,
   "id": "26d99e82",
   "metadata": {},
   "outputs": [],
   "source": [
    "clf = GridSearchCV(SVC(),grid)"
   ]
  },
  {
   "cell_type": "code",
   "execution_count": 136,
   "id": "2e9e7e11",
   "metadata": {},
   "outputs": [
    {
     "data": {
      "text/plain": [
       "GridSearchCV(estimator=SVC(),\n",
       "             param_grid={'C': [1, 10, 100, 1000],\n",
       "                         'gamma': [0.001, 0.01, 0.1, 1]})"
      ]
     },
     "execution_count": 136,
     "metadata": {},
     "output_type": "execute_result"
    }
   ],
   "source": [
    "clf.fit(xtrain,y_train)"
   ]
  },
  {
   "cell_type": "code",
   "execution_count": 141,
   "id": "48c0a517",
   "metadata": {},
   "outputs": [
    {
     "data": {
      "text/plain": [
       "SVC(C=1, gamma=1)"
      ]
     },
     "execution_count": 141,
     "metadata": {},
     "output_type": "execute_result"
    }
   ],
   "source": [
    "clf.best_estimator_"
   ]
  },
  {
   "cell_type": "code",
   "execution_count": 143,
   "id": "5cc0da82",
   "metadata": {},
   "outputs": [],
   "source": [
    "yp = clf.predict(xtest)"
   ]
  },
  {
   "cell_type": "code",
   "execution_count": 144,
   "id": "2d9d59d5",
   "metadata": {},
   "outputs": [],
   "source": [
    "np.savetxt(\"twitter_predictions_svc_best.csv\",yp,fmt=\"%s\")"
   ]
  }
 ],
 "metadata": {
  "kernelspec": {
   "display_name": "Python 3",
   "language": "python",
   "name": "python3"
  },
  "language_info": {
   "codemirror_mode": {
    "name": "ipython",
    "version": 3
   },
   "file_extension": ".py",
   "mimetype": "text/x-python",
   "name": "python",
   "nbconvert_exporter": "python",
   "pygments_lexer": "ipython3",
   "version": "3.8.8"
  }
 },
 "nbformat": 4,
 "nbformat_minor": 5
}
